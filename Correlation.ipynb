{
 "cells": [
  {
   "cell_type": "code",
   "execution_count": 1,
   "id": "be55e0ec",
   "metadata": {},
   "outputs": [],
   "source": [
    "import numpy as np\n",
    "import matplotlib.pyplot as plt\n",
    "import scipy as sc"
   ]
  },
  {
   "cell_type": "code",
   "execution_count": 2,
   "id": "83a0a9a0",
   "metadata": {},
   "outputs": [],
   "source": [
    "def generate_field(N,w,phi0=0,density=100):\n",
    "    T = 2*np.pi/w\n",
    "    times = np.linspace(0,N*T,N*density)\n",
    "    e = np.cos(w*times+phi0)\n",
    "    return e,times\n",
    "def plot_field(field,time,title='Field vs time'):\n",
    "#     plt.figure(figsize=(5,5))\n",
    "    plt.plot(time,field)\n",
    "    plt.title(title)\n",
    "    plt.xlabel('t')\n",
    "    plt.ylabel('E')\n",
    "    plt.show()\n",
    "    \n",
    "def autocorrelation(e,t,factor=2):\n",
    "    auto_correlations = []\n",
    "    L=len(e)\n",
    "    for i in range(len(t)//factor):\n",
    "        eprime = np.concatenate([e[factor*i:],e[0:factor*i]])\n",
    "        sum_ = sum(eprime*e)/(L-1)\n",
    "        auto_correlations.append(auto_correlations)\n",
    "    plt.plot(t,auto_correlations)\n",
    "    plt.title('Correlation vs tau')\n",
    "    plt.show()    \n",
    "    "
   ]
  },
  {
   "cell_type": "code",
   "execution_count": null,
   "id": "81fd0fc0",
   "metadata": {},
   "outputs": [],
   "source": [
    "w = 2*np.pi\n",
    "N=2\n",
    "e,t = generate_field(N,w)\n",
    "plot_field(e,t)\n",
    "autocorrelation(e,t)"
   ]
  },
  {
   "cell_type": "code",
   "execution_count": null,
   "id": "23f34fbc",
   "metadata": {},
   "outputs": [],
   "source": [
    "a = np.random.random(10)\n",
    "print(np.correlate(a,a))"
   ]
  }
 ],
 "metadata": {
  "kernelspec": {
   "display_name": "Python 3 (ipykernel)",
   "language": "python",
   "name": "python3"
  },
  "language_info": {
   "codemirror_mode": {
    "name": "ipython",
    "version": 3
   },
   "file_extension": ".py",
   "mimetype": "text/x-python",
   "name": "python",
   "nbconvert_exporter": "python",
   "pygments_lexer": "ipython3",
   "version": "3.10.5"
  }
 },
 "nbformat": 4,
 "nbformat_minor": 5
}
